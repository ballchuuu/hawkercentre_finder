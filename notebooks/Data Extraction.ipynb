{
 "cells": [
  {
   "cell_type": "code",
   "execution_count": 116,
   "id": "7ddd23b1",
   "metadata": {},
   "outputs": [],
   "source": [
    "import urllib.request\n",
    "import shutil\n",
    "import geopandas as gpd\n",
    "import pandas as pd\n",
    "from bs4 import BeautifulSoup\n",
    "from typing import List, Dict"
   ]
  },
  {
   "cell_type": "markdown",
   "id": "4bbf7b8d",
   "metadata": {},
   "source": [
    "## Download file"
   ]
  },
  {
   "cell_type": "code",
   "execution_count": 118,
   "id": "43cdb4d4",
   "metadata": {},
   "outputs": [],
   "source": [
    "def download_zip(url: str, save_dir: str) -> None:\n",
    "    # init opener and add headers\n",
    "    opener = urllib.request.build_opener()\n",
    "    opener.addheaders = [('User-agent', 'Mozilla/5.0')]\n",
    "    urllib.request.install_opener(opener)\n",
    "    \n",
    "    # retrieve and download file to repository\n",
    "    try:\n",
    "        urllib.request.urlretrieve(url, save_dir)\n",
    "        print(f\"Downloaded temp.zip from {url}\")\n",
    "    except Exception as e:\n",
    "        raise(e)\n",
    "        \n",
    "    return "
   ]
  },
  {
   "cell_type": "code",
   "execution_count": 129,
   "id": "edefc814",
   "metadata": {},
   "outputs": [],
   "source": [
    "def unzip_file(zipfile_dir: str, target_dir: str = \"../data/\") -> None:\n",
    "    shutil.unpack_archive(zipfile_dir, target_dir, \"zip\")\n",
    "    print(f\"Unpacked files into {target_dir}\")\n",
    "    return"
   ]
  },
  {
   "cell_type": "code",
   "execution_count": 130,
   "id": "2a7b08cb",
   "metadata": {},
   "outputs": [
    {
     "name": "stdout",
     "output_type": "stream",
     "text": [
      "Downloaded temp.zip from https://data.gov.sg/dataset/aeaf4704-5be1-4b33-993d-c70d8dcc943e/download\n",
      "Unpacked files into ../data/\n"
     ]
    }
   ],
   "source": [
    "url = \"https://data.gov.sg/dataset/aeaf4704-5be1-4b33-993d-c70d8dcc943e/download\"\n",
    "save_dir = \"../data/raw.zip\"\n",
    "download_zip(url=url, save_dir=save_dir)\n",
    "unzip_file(zipfile_dir=save_dir)"
   ]
  },
  {
   "cell_type": "markdown",
   "id": "d1c71557",
   "metadata": {},
   "source": [
    "##  Extract Data"
   ]
  },
  {
   "cell_type": "code",
   "execution_count": 140,
   "id": "124596c6",
   "metadata": {},
   "outputs": [],
   "source": [
    "raw_df = gpd.read_file(\"../data/hawker-centres-geojson.geojson\")"
   ]
  },
  {
   "cell_type": "code",
   "execution_count": 141,
   "id": "b0d70914",
   "metadata": {},
   "outputs": [
    {
     "data": {
      "text/html": [
       "<div>\n",
       "<style scoped>\n",
       "    .dataframe tbody tr th:only-of-type {\n",
       "        vertical-align: middle;\n",
       "    }\n",
       "\n",
       "    .dataframe tbody tr th {\n",
       "        vertical-align: top;\n",
       "    }\n",
       "\n",
       "    .dataframe thead th {\n",
       "        text-align: right;\n",
       "    }\n",
       "</style>\n",
       "<table border=\"1\" class=\"dataframe\">\n",
       "  <thead>\n",
       "    <tr style=\"text-align: right;\">\n",
       "      <th></th>\n",
       "      <th>Name</th>\n",
       "      <th>Description</th>\n",
       "      <th>geometry</th>\n",
       "    </tr>\n",
       "  </thead>\n",
       "  <tbody>\n",
       "    <tr>\n",
       "      <th>0</th>\n",
       "      <td>kml_1</td>\n",
       "      <td>&lt;center&gt;&lt;table&gt;&lt;tr&gt;&lt;th colspan='2' align='cent...</td>\n",
       "      <td>POINT Z (103.93873 1.33199 0.00000)</td>\n",
       "    </tr>\n",
       "    <tr>\n",
       "      <th>1</th>\n",
       "      <td>kml_2</td>\n",
       "      <td>&lt;center&gt;&lt;table&gt;&lt;tr&gt;&lt;th colspan='2' align='cent...</td>\n",
       "      <td>POINT Z (103.81834 1.28733 0.00000)</td>\n",
       "    </tr>\n",
       "    <tr>\n",
       "      <th>2</th>\n",
       "      <td>kml_3</td>\n",
       "      <td>&lt;center&gt;&lt;table&gt;&lt;tr&gt;&lt;th colspan='2' align='cent...</td>\n",
       "      <td>POINT Z (103.82899 1.37238 0.00000)</td>\n",
       "    </tr>\n",
       "    <tr>\n",
       "      <th>3</th>\n",
       "      <td>kml_4</td>\n",
       "      <td>&lt;center&gt;&lt;table&gt;&lt;tr&gt;&lt;th colspan='2' align='cent...</td>\n",
       "      <td>POINT Z (103.86674 1.36316 0.00000)</td>\n",
       "    </tr>\n",
       "    <tr>\n",
       "      <th>4</th>\n",
       "      <td>kml_5</td>\n",
       "      <td>&lt;center&gt;&lt;table&gt;&lt;tr&gt;&lt;th colspan='2' align='cent...</td>\n",
       "      <td>POINT Z (103.83703 1.35201 0.00000)</td>\n",
       "    </tr>\n",
       "  </tbody>\n",
       "</table>\n",
       "</div>"
      ],
      "text/plain": [
       "    Name                                        Description  \\\n",
       "0  kml_1  <center><table><tr><th colspan='2' align='cent...   \n",
       "1  kml_2  <center><table><tr><th colspan='2' align='cent...   \n",
       "2  kml_3  <center><table><tr><th colspan='2' align='cent...   \n",
       "3  kml_4  <center><table><tr><th colspan='2' align='cent...   \n",
       "4  kml_5  <center><table><tr><th colspan='2' align='cent...   \n",
       "\n",
       "                              geometry  \n",
       "0  POINT Z (103.93873 1.33199 0.00000)  \n",
       "1  POINT Z (103.81834 1.28733 0.00000)  \n",
       "2  POINT Z (103.82899 1.37238 0.00000)  \n",
       "3  POINT Z (103.86674 1.36316 0.00000)  \n",
       "4  POINT Z (103.83703 1.35201 0.00000)  "
      ]
     },
     "execution_count": 141,
     "metadata": {},
     "output_type": "execute_result"
    }
   ],
   "source": [
    "raw_df.head()"
   ]
  },
  {
   "cell_type": "markdown",
   "id": "8b9c11e5",
   "metadata": {},
   "source": [
    "### Parsing lat long"
   ]
  },
  {
   "cell_type": "code",
   "execution_count": 156,
   "id": "57017a3e",
   "metadata": {},
   "outputs": [],
   "source": [
    "lat_lon_df = pd.DataFrame()"
   ]
  },
  {
   "cell_type": "code",
   "execution_count": 157,
   "id": "2078706f",
   "metadata": {},
   "outputs": [],
   "source": [
    "lat_lon_df[\"LONGITUDE\"] = raw_df[\"geometry\"].x\n",
    "lat_lon_df[\"LATITUDE\"] = raw_df[\"geometry\"].y"
   ]
  },
  {
   "cell_type": "code",
   "execution_count": 158,
   "id": "d046a1df",
   "metadata": {},
   "outputs": [
    {
     "data": {
      "text/html": [
       "<div>\n",
       "<style scoped>\n",
       "    .dataframe tbody tr th:only-of-type {\n",
       "        vertical-align: middle;\n",
       "    }\n",
       "\n",
       "    .dataframe tbody tr th {\n",
       "        vertical-align: top;\n",
       "    }\n",
       "\n",
       "    .dataframe thead th {\n",
       "        text-align: right;\n",
       "    }\n",
       "</style>\n",
       "<table border=\"1\" class=\"dataframe\">\n",
       "  <thead>\n",
       "    <tr style=\"text-align: right;\">\n",
       "      <th></th>\n",
       "      <th>LONGITUDE</th>\n",
       "      <th>LATITUDE</th>\n",
       "    </tr>\n",
       "  </thead>\n",
       "  <tbody>\n",
       "    <tr>\n",
       "      <th>0</th>\n",
       "      <td>103.938733</td>\n",
       "      <td>1.331987</td>\n",
       "    </tr>\n",
       "    <tr>\n",
       "      <th>1</th>\n",
       "      <td>103.818339</td>\n",
       "      <td>1.287331</td>\n",
       "    </tr>\n",
       "    <tr>\n",
       "      <th>2</th>\n",
       "      <td>103.828994</td>\n",
       "      <td>1.372385</td>\n",
       "    </tr>\n",
       "    <tr>\n",
       "      <th>3</th>\n",
       "      <td>103.866737</td>\n",
       "      <td>1.363157</td>\n",
       "    </tr>\n",
       "    <tr>\n",
       "      <th>4</th>\n",
       "      <td>103.837032</td>\n",
       "      <td>1.352007</td>\n",
       "    </tr>\n",
       "  </tbody>\n",
       "</table>\n",
       "</div>"
      ],
      "text/plain": [
       "    LONGITUDE  LATITUDE\n",
       "0  103.938733  1.331987\n",
       "1  103.818339  1.287331\n",
       "2  103.828994  1.372385\n",
       "3  103.866737  1.363157\n",
       "4  103.837032  1.352007"
      ]
     },
     "execution_count": 158,
     "metadata": {},
     "output_type": "execute_result"
    }
   ],
   "source": [
    "lat_lon_df.head()"
   ]
  },
  {
   "cell_type": "markdown",
   "id": "080a1994",
   "metadata": {},
   "source": [
    "### Parsing description"
   ]
  },
  {
   "cell_type": "code",
   "execution_count": 133,
   "id": "49a95c91",
   "metadata": {},
   "outputs": [],
   "source": [
    "# Function to parse html description\n",
    "def parse_description(description_list: List[List[str]]) -> List[Dict[str, str]]:\n",
    "    result = []\n",
    "    for des in description_list:\n",
    "        soup = BeautifulSoup(des)\n",
    "        table = soup.find('table')\n",
    "        header, values = table.find_all('th')[1:], table.find_all('td')\n",
    "        dict_values = {header[i].text: values[i].text for i in range(len(header)) if values[i].text != \"\"}\n",
    "        result.append(dict_values)\n",
    "    return result"
   ]
  },
  {
   "cell_type": "code",
   "execution_count": 134,
   "id": "9813bd7b",
   "metadata": {},
   "outputs": [
    {
     "data": {
      "text/html": [
       "<div>\n",
       "<style scoped>\n",
       "    .dataframe tbody tr th:only-of-type {\n",
       "        vertical-align: middle;\n",
       "    }\n",
       "\n",
       "    .dataframe tbody tr th {\n",
       "        vertical-align: top;\n",
       "    }\n",
       "\n",
       "    .dataframe thead th {\n",
       "        text-align: right;\n",
       "    }\n",
       "</style>\n",
       "<table border=\"1\" class=\"dataframe\">\n",
       "  <thead>\n",
       "    <tr style=\"text-align: right;\">\n",
       "      <th></th>\n",
       "      <th>ADDRESSBLOCKHOUSENUMBER</th>\n",
       "      <th>EST_ORIGINAL_COMPLETION_DATE</th>\n",
       "      <th>STATUS</th>\n",
       "      <th>LANDYADDRESSPOINT</th>\n",
       "      <th>PHOTOURL</th>\n",
       "      <th>DESCRIPTION</th>\n",
       "      <th>NAME</th>\n",
       "      <th>ADDRESSTYPE</th>\n",
       "      <th>HUP_COMPLETION_DATE</th>\n",
       "      <th>LANDXADDRESSPOINT</th>\n",
       "      <th>...</th>\n",
       "      <th>INC_CRC</th>\n",
       "      <th>FMEL_UPD_D</th>\n",
       "      <th>APPROXIMATE_GFA</th>\n",
       "      <th>AWARDED_DATE</th>\n",
       "      <th>ADDRESSBUILDINGNAME</th>\n",
       "      <th>IMPLEMENTATION_DATE</th>\n",
       "      <th>CLEANINGSTARTDATE</th>\n",
       "      <th>INFO_ON_CO_LOCATORS</th>\n",
       "      <th>CLEANINGENDDATE</th>\n",
       "      <th>RNR_STATUS</th>\n",
       "    </tr>\n",
       "  </thead>\n",
       "  <tbody>\n",
       "    <tr>\n",
       "      <th>0</th>\n",
       "      <td>85</td>\n",
       "      <td>30/6/1977</td>\n",
       "      <td>Existing</td>\n",
       "      <td>34910.13</td>\n",
       "      <td>http://www.nea.gov.sg/images/default-source/Ha...</td>\n",
       "      <td>HUP Standard Upgrading</td>\n",
       "      <td>Bedok North Street 4 Blk 85 (85 Fengshan Centre)</td>\n",
       "      <td>I</td>\n",
       "      <td>20/12/2012</td>\n",
       "      <td>39731.49</td>\n",
       "      <td>...</td>\n",
       "      <td>CFC780A1B5DC7721</td>\n",
       "      <td>20210330151704</td>\n",
       "      <td>NaN</td>\n",
       "      <td>NaN</td>\n",
       "      <td>NaN</td>\n",
       "      <td>NaN</td>\n",
       "      <td>NaN</td>\n",
       "      <td>NaN</td>\n",
       "      <td>NaN</td>\n",
       "      <td>NaN</td>\n",
       "    </tr>\n",
       "    <tr>\n",
       "      <th>1</th>\n",
       "      <td>85</td>\n",
       "      <td>4/4/1972</td>\n",
       "      <td>Existing</td>\n",
       "      <td>29972.02</td>\n",
       "      <td>http://www.nea.gov.sg/images/default-source/Ha...</td>\n",
       "      <td>HUP Reconfiguration</td>\n",
       "      <td>Redhill Lane Blk 85 (Redhill Food Centre)</td>\n",
       "      <td>I</td>\n",
       "      <td>17/6/2005</td>\n",
       "      <td>26332.89</td>\n",
       "      <td>...</td>\n",
       "      <td>1D515CA502CE0A60</td>\n",
       "      <td>20210330151704</td>\n",
       "      <td>NaN</td>\n",
       "      <td>NaN</td>\n",
       "      <td>NaN</td>\n",
       "      <td>NaN</td>\n",
       "      <td>NaN</td>\n",
       "      <td>NaN</td>\n",
       "      <td>NaN</td>\n",
       "      <td>NaN</td>\n",
       "    </tr>\n",
       "  </tbody>\n",
       "</table>\n",
       "<p>2 rows × 23 columns</p>\n",
       "</div>"
      ],
      "text/plain": [
       "  ADDRESSBLOCKHOUSENUMBER EST_ORIGINAL_COMPLETION_DATE    STATUS  \\\n",
       "0                      85                    30/6/1977  Existing   \n",
       "1                      85                     4/4/1972  Existing   \n",
       "\n",
       "  LANDYADDRESSPOINT                                           PHOTOURL  \\\n",
       "0          34910.13  http://www.nea.gov.sg/images/default-source/Ha...   \n",
       "1          29972.02  http://www.nea.gov.sg/images/default-source/Ha...   \n",
       "\n",
       "              DESCRIPTION                                              NAME  \\\n",
       "0  HUP Standard Upgrading  Bedok North Street 4 Blk 85 (85 Fengshan Centre)   \n",
       "1     HUP Reconfiguration         Redhill Lane Blk 85 (Redhill Food Centre)   \n",
       "\n",
       "  ADDRESSTYPE HUP_COMPLETION_DATE LANDXADDRESSPOINT  ...           INC_CRC  \\\n",
       "0           I          20/12/2012          39731.49  ...  CFC780A1B5DC7721   \n",
       "1           I           17/6/2005          26332.89  ...  1D515CA502CE0A60   \n",
       "\n",
       "       FMEL_UPD_D APPROXIMATE_GFA AWARDED_DATE ADDRESSBUILDINGNAME  \\\n",
       "0  20210330151704             NaN          NaN                 NaN   \n",
       "1  20210330151704             NaN          NaN                 NaN   \n",
       "\n",
       "  IMPLEMENTATION_DATE CLEANINGSTARTDATE INFO_ON_CO_LOCATORS CLEANINGENDDATE  \\\n",
       "0                 NaN               NaN                 NaN             NaN   \n",
       "1                 NaN               NaN                 NaN             NaN   \n",
       "\n",
       "  RNR_STATUS  \n",
       "0        NaN  \n",
       "1        NaN  \n",
       "\n",
       "[2 rows x 23 columns]"
      ]
     },
     "execution_count": 134,
     "metadata": {},
     "output_type": "execute_result"
    }
   ],
   "source": [
    "description_dict = parse_description(raw_df[\"Description\"].values.tolist())\n",
    "description_df = pd.DataFrame.from_dict(description_dict)\n",
    "description_df.head(n=2)"
   ]
  },
  {
   "cell_type": "code",
   "execution_count": 135,
   "id": "fbd88cae",
   "metadata": {},
   "outputs": [
    {
     "data": {
      "text/plain": [
       "ADDRESSBLOCKHOUSENUMBER           8\n",
       "EST_ORIGINAL_COMPLETION_DATE      1\n",
       "STATUS                            0\n",
       "LANDYADDRESSPOINT                 0\n",
       "PHOTOURL                         11\n",
       "DESCRIPTION                       0\n",
       "NAME                              0\n",
       "ADDRESSTYPE                      21\n",
       "HUP_COMPLETION_DATE              28\n",
       "LANDXADDRESSPOINT                 0\n",
       "ADDRESSSTREETNAME                 2\n",
       "ADDRESSPOSTALCODE                 7\n",
       "ADDRESS_MYENV                    11\n",
       "INC_CRC                           0\n",
       "FMEL_UPD_D                        0\n",
       "APPROXIMATE_GFA                  92\n",
       "AWARDED_DATE                    108\n",
       "ADDRESSBUILDINGNAME             110\n",
       "IMPLEMENTATION_DATE             108\n",
       "CLEANINGSTARTDATE               114\n",
       "INFO_ON_CO_LOCATORS             111\n",
       "CLEANINGENDDATE                 114\n",
       "RNR_STATUS                      114\n",
       "dtype: int64"
      ]
     },
     "execution_count": 135,
     "metadata": {},
     "output_type": "execute_result"
    }
   ],
   "source": [
    "# checking data quality\n",
    "description_df.isnull().sum()"
   ]
  },
  {
   "cell_type": "markdown",
   "id": "51545f87",
   "metadata": {},
   "source": [
    "### Overall dataframe"
   ]
  },
  {
   "cell_type": "code",
   "execution_count": 160,
   "id": "699d7afc",
   "metadata": {},
   "outputs": [],
   "source": [
    "df = pd.concat([lat_lon_df, description_df], axis=1)"
   ]
  },
  {
   "cell_type": "code",
   "execution_count": 164,
   "id": "e914827f",
   "metadata": {},
   "outputs": [
    {
     "data": {
      "text/html": [
       "<div>\n",
       "<style scoped>\n",
       "    .dataframe tbody tr th:only-of-type {\n",
       "        vertical-align: middle;\n",
       "    }\n",
       "\n",
       "    .dataframe tbody tr th {\n",
       "        vertical-align: top;\n",
       "    }\n",
       "\n",
       "    .dataframe thead th {\n",
       "        text-align: right;\n",
       "    }\n",
       "</style>\n",
       "<table border=\"1\" class=\"dataframe\">\n",
       "  <thead>\n",
       "    <tr style=\"text-align: right;\">\n",
       "      <th></th>\n",
       "      <th>LONGITUDE</th>\n",
       "      <th>LATITUDE</th>\n",
       "      <th>ADDRESSBLOCKHOUSENUMBER</th>\n",
       "      <th>EST_ORIGINAL_COMPLETION_DATE</th>\n",
       "      <th>STATUS</th>\n",
       "      <th>LANDYADDRESSPOINT</th>\n",
       "      <th>PHOTOURL</th>\n",
       "      <th>DESCRIPTION</th>\n",
       "      <th>NAME</th>\n",
       "      <th>ADDRESSTYPE</th>\n",
       "      <th>...</th>\n",
       "      <th>INC_CRC</th>\n",
       "      <th>FMEL_UPD_D</th>\n",
       "      <th>APPROXIMATE_GFA</th>\n",
       "      <th>AWARDED_DATE</th>\n",
       "      <th>ADDRESSBUILDINGNAME</th>\n",
       "      <th>IMPLEMENTATION_DATE</th>\n",
       "      <th>CLEANINGSTARTDATE</th>\n",
       "      <th>INFO_ON_CO_LOCATORS</th>\n",
       "      <th>CLEANINGENDDATE</th>\n",
       "      <th>RNR_STATUS</th>\n",
       "    </tr>\n",
       "  </thead>\n",
       "  <tbody>\n",
       "    <tr>\n",
       "      <th>0</th>\n",
       "      <td>103.938733</td>\n",
       "      <td>1.331987</td>\n",
       "      <td>85</td>\n",
       "      <td>30/6/1977</td>\n",
       "      <td>Existing</td>\n",
       "      <td>34910.13</td>\n",
       "      <td>http://www.nea.gov.sg/images/default-source/Ha...</td>\n",
       "      <td>HUP Standard Upgrading</td>\n",
       "      <td>Bedok North Street 4 Blk 85 (85 Fengshan Centre)</td>\n",
       "      <td>I</td>\n",
       "      <td>...</td>\n",
       "      <td>CFC780A1B5DC7721</td>\n",
       "      <td>20210330151704</td>\n",
       "      <td>NaN</td>\n",
       "      <td>NaN</td>\n",
       "      <td>NaN</td>\n",
       "      <td>NaN</td>\n",
       "      <td>NaN</td>\n",
       "      <td>NaN</td>\n",
       "      <td>NaN</td>\n",
       "      <td>NaN</td>\n",
       "    </tr>\n",
       "    <tr>\n",
       "      <th>1</th>\n",
       "      <td>103.818339</td>\n",
       "      <td>1.287331</td>\n",
       "      <td>85</td>\n",
       "      <td>4/4/1972</td>\n",
       "      <td>Existing</td>\n",
       "      <td>29972.02</td>\n",
       "      <td>http://www.nea.gov.sg/images/default-source/Ha...</td>\n",
       "      <td>HUP Reconfiguration</td>\n",
       "      <td>Redhill Lane Blk 85 (Redhill Food Centre)</td>\n",
       "      <td>I</td>\n",
       "      <td>...</td>\n",
       "      <td>1D515CA502CE0A60</td>\n",
       "      <td>20210330151704</td>\n",
       "      <td>NaN</td>\n",
       "      <td>NaN</td>\n",
       "      <td>NaN</td>\n",
       "      <td>NaN</td>\n",
       "      <td>NaN</td>\n",
       "      <td>NaN</td>\n",
       "      <td>NaN</td>\n",
       "      <td>NaN</td>\n",
       "    </tr>\n",
       "  </tbody>\n",
       "</table>\n",
       "<p>2 rows × 25 columns</p>\n",
       "</div>"
      ],
      "text/plain": [
       "    LONGITUDE  LATITUDE ADDRESSBLOCKHOUSENUMBER EST_ORIGINAL_COMPLETION_DATE  \\\n",
       "0  103.938733  1.331987                      85                    30/6/1977   \n",
       "1  103.818339  1.287331                      85                     4/4/1972   \n",
       "\n",
       "     STATUS LANDYADDRESSPOINT  \\\n",
       "0  Existing          34910.13   \n",
       "1  Existing          29972.02   \n",
       "\n",
       "                                            PHOTOURL             DESCRIPTION  \\\n",
       "0  http://www.nea.gov.sg/images/default-source/Ha...  HUP Standard Upgrading   \n",
       "1  http://www.nea.gov.sg/images/default-source/Ha...     HUP Reconfiguration   \n",
       "\n",
       "                                               NAME ADDRESSTYPE  ...  \\\n",
       "0  Bedok North Street 4 Blk 85 (85 Fengshan Centre)           I  ...   \n",
       "1         Redhill Lane Blk 85 (Redhill Food Centre)           I  ...   \n",
       "\n",
       "            INC_CRC      FMEL_UPD_D APPROXIMATE_GFA AWARDED_DATE  \\\n",
       "0  CFC780A1B5DC7721  20210330151704             NaN          NaN   \n",
       "1  1D515CA502CE0A60  20210330151704             NaN          NaN   \n",
       "\n",
       "  ADDRESSBUILDINGNAME IMPLEMENTATION_DATE CLEANINGSTARTDATE  \\\n",
       "0                 NaN                 NaN               NaN   \n",
       "1                 NaN                 NaN               NaN   \n",
       "\n",
       "  INFO_ON_CO_LOCATORS CLEANINGENDDATE RNR_STATUS  \n",
       "0                 NaN             NaN        NaN  \n",
       "1                 NaN             NaN        NaN  \n",
       "\n",
       "[2 rows x 25 columns]"
      ]
     },
     "execution_count": 164,
     "metadata": {},
     "output_type": "execute_result"
    }
   ],
   "source": [
    "df.head(n=2)"
   ]
  },
  {
   "cell_type": "code",
   "execution_count": 163,
   "id": "714e6bf1",
   "metadata": {},
   "outputs": [],
   "source": [
    "df.to_csv(\"../data/collated_hawkercentre_data.csv\")"
   ]
  }
 ],
 "metadata": {
  "kernelspec": {
   "display_name": "Python 3 (ipykernel)",
   "language": "python",
   "name": "python3"
  },
  "language_info": {
   "codemirror_mode": {
    "name": "ipython",
    "version": 3
   },
   "file_extension": ".py",
   "mimetype": "text/x-python",
   "name": "python",
   "nbconvert_exporter": "python",
   "pygments_lexer": "ipython3",
   "version": "3.8.10"
  }
 },
 "nbformat": 4,
 "nbformat_minor": 5
}
