{
 "cells": [
  {
   "cell_type": "code",
   "execution_count": 169,
   "id": "dfa9edef",
   "metadata": {},
   "outputs": [],
   "source": [
    "import pandas as pd\n",
    "from sklearn.neighbors import BallTree\n",
    "import geopy.distance\n",
    "import numpy as np\n",
    "import sqlite3\n",
    "import math"
   ]
  },
  {
   "cell_type": "code",
   "execution_count": 84,
   "id": "c285cdfb",
   "metadata": {},
   "outputs": [],
   "source": [
    "df = pd.read_csv(\"../data/collated_hawkercentre_data.csv\")\n",
    "df = df.drop(columns=[\"Unnamed: 0\"])"
   ]
  },
  {
   "cell_type": "code",
   "execution_count": 85,
   "id": "5c3a05a5",
   "metadata": {
    "scrolled": true
   },
   "outputs": [
    {
     "data": {
      "text/html": [
       "<div>\n",
       "<style scoped>\n",
       "    .dataframe tbody tr th:only-of-type {\n",
       "        vertical-align: middle;\n",
       "    }\n",
       "\n",
       "    .dataframe tbody tr th {\n",
       "        vertical-align: top;\n",
       "    }\n",
       "\n",
       "    .dataframe thead th {\n",
       "        text-align: right;\n",
       "    }\n",
       "</style>\n",
       "<table border=\"1\" class=\"dataframe\">\n",
       "  <thead>\n",
       "    <tr style=\"text-align: right;\">\n",
       "      <th></th>\n",
       "      <th>LONGITUDE</th>\n",
       "      <th>LATITUDE</th>\n",
       "      <th>ADDRESSBLOCKHOUSENUMBER</th>\n",
       "      <th>EST_ORIGINAL_COMPLETION_DATE</th>\n",
       "      <th>STATUS</th>\n",
       "      <th>LANDYADDRESSPOINT</th>\n",
       "      <th>PHOTOURL</th>\n",
       "      <th>DESCRIPTION</th>\n",
       "      <th>NAME</th>\n",
       "      <th>ADDRESSTYPE</th>\n",
       "      <th>...</th>\n",
       "      <th>INC_CRC</th>\n",
       "      <th>FMEL_UPD_D</th>\n",
       "      <th>APPROXIMATE_GFA</th>\n",
       "      <th>AWARDED_DATE</th>\n",
       "      <th>ADDRESSBUILDINGNAME</th>\n",
       "      <th>IMPLEMENTATION_DATE</th>\n",
       "      <th>CLEANINGSTARTDATE</th>\n",
       "      <th>INFO_ON_CO_LOCATORS</th>\n",
       "      <th>CLEANINGENDDATE</th>\n",
       "      <th>RNR_STATUS</th>\n",
       "    </tr>\n",
       "  </thead>\n",
       "  <tbody>\n",
       "    <tr>\n",
       "      <th>0</th>\n",
       "      <td>103.938733</td>\n",
       "      <td>1.331987</td>\n",
       "      <td>85</td>\n",
       "      <td>30/6/1977</td>\n",
       "      <td>Existing</td>\n",
       "      <td>34910.13</td>\n",
       "      <td>http://www.nea.gov.sg/images/default-source/Ha...</td>\n",
       "      <td>HUP Standard Upgrading</td>\n",
       "      <td>Bedok North Street 4 Blk 85 (85 Fengshan Centre)</td>\n",
       "      <td>I</td>\n",
       "      <td>...</td>\n",
       "      <td>CFC780A1B5DC7721</td>\n",
       "      <td>20210330151704</td>\n",
       "      <td>NaN</td>\n",
       "      <td>NaN</td>\n",
       "      <td>NaN</td>\n",
       "      <td>NaN</td>\n",
       "      <td>NaN</td>\n",
       "      <td>NaN</td>\n",
       "      <td>NaN</td>\n",
       "      <td>NaN</td>\n",
       "    </tr>\n",
       "    <tr>\n",
       "      <th>1</th>\n",
       "      <td>103.818339</td>\n",
       "      <td>1.287331</td>\n",
       "      <td>85</td>\n",
       "      <td>4/4/1972</td>\n",
       "      <td>Existing</td>\n",
       "      <td>29972.02</td>\n",
       "      <td>http://www.nea.gov.sg/images/default-source/Ha...</td>\n",
       "      <td>HUP Reconfiguration</td>\n",
       "      <td>Redhill Lane Blk 85 (Redhill Food Centre)</td>\n",
       "      <td>I</td>\n",
       "      <td>...</td>\n",
       "      <td>1D515CA502CE0A60</td>\n",
       "      <td>20210330151704</td>\n",
       "      <td>NaN</td>\n",
       "      <td>NaN</td>\n",
       "      <td>NaN</td>\n",
       "      <td>NaN</td>\n",
       "      <td>NaN</td>\n",
       "      <td>NaN</td>\n",
       "      <td>NaN</td>\n",
       "      <td>NaN</td>\n",
       "    </tr>\n",
       "  </tbody>\n",
       "</table>\n",
       "<p>2 rows × 25 columns</p>\n",
       "</div>"
      ],
      "text/plain": [
       "    LONGITUDE  LATITUDE ADDRESSBLOCKHOUSENUMBER EST_ORIGINAL_COMPLETION_DATE  \\\n",
       "0  103.938733  1.331987                      85                    30/6/1977   \n",
       "1  103.818339  1.287331                      85                     4/4/1972   \n",
       "\n",
       "     STATUS  LANDYADDRESSPOINT  \\\n",
       "0  Existing           34910.13   \n",
       "1  Existing           29972.02   \n",
       "\n",
       "                                            PHOTOURL             DESCRIPTION  \\\n",
       "0  http://www.nea.gov.sg/images/default-source/Ha...  HUP Standard Upgrading   \n",
       "1  http://www.nea.gov.sg/images/default-source/Ha...     HUP Reconfiguration   \n",
       "\n",
       "                                               NAME ADDRESSTYPE  ...  \\\n",
       "0  Bedok North Street 4 Blk 85 (85 Fengshan Centre)           I  ...   \n",
       "1         Redhill Lane Blk 85 (Redhill Food Centre)           I  ...   \n",
       "\n",
       "            INC_CRC      FMEL_UPD_D APPROXIMATE_GFA  AWARDED_DATE  \\\n",
       "0  CFC780A1B5DC7721  20210330151704             NaN           NaN   \n",
       "1  1D515CA502CE0A60  20210330151704             NaN           NaN   \n",
       "\n",
       "  ADDRESSBUILDINGNAME IMPLEMENTATION_DATE  CLEANINGSTARTDATE  \\\n",
       "0                 NaN                 NaN                NaN   \n",
       "1                 NaN                 NaN                NaN   \n",
       "\n",
       "   INFO_ON_CO_LOCATORS CLEANINGENDDATE RNR_STATUS  \n",
       "0                  NaN             NaN        NaN  \n",
       "1                  NaN             NaN        NaN  \n",
       "\n",
       "[2 rows x 25 columns]"
      ]
     },
     "execution_count": 85,
     "metadata": {},
     "output_type": "execute_result"
    }
   ],
   "source": [
    "df.head(n=2)"
   ]
  },
  {
   "cell_type": "raw",
   "id": "7dcba8cf",
   "metadata": {},
   "source": [
    "This test location will be used to determine which approach is best based on the following criteria (ranked by importance):\n",
    "1. accuracy of results\n",
    "2. latency of calculation\n",
    "\n",
    "Accuracy of results here is presumed to be more important than speed, considering that we only have 152 hawker centres and this number is likely only to increase slowly over time."
   ]
  },
  {
   "cell_type": "code",
   "execution_count": 10,
   "id": "622d268f",
   "metadata": {},
   "outputs": [],
   "source": [
    "test_locations = [[np.random.uniform(1.31, 1.35), np.random.uniform(103.3, 103.9)] for i in range(1000)]"
   ]
  },
  {
   "cell_type": "markdown",
   "id": "107f78cc",
   "metadata": {},
   "source": [
    "### Testing with brute force method - in memory python\n",
    "\n",
    "This method will be the most accurate one as all points are visited before determining the nearest neighbours."
   ]
  },
  {
   "cell_type": "code",
   "execution_count": 147,
   "id": "ac0870bd",
   "metadata": {},
   "outputs": [],
   "source": [
    "lat_lon_list = df[[\"LATITUDE\", \"LONGITUDE\"]].values.tolist()\n",
    "hawkercentre_list = df[\"NAME\"].tolist()"
   ]
  },
  {
   "cell_type": "code",
   "execution_count": 172,
   "id": "110f519b",
   "metadata": {},
   "outputs": [
    {
     "data": {
      "text/plain": [
       "['Jurong West Hawker Centre',\n",
       " 'Boon Lay Place Blk 221A/B (Boon Lay Place Market and Food Village)',\n",
       " 'Jurong West Street 52 Blk 505',\n",
       " 'Taman Jurong Market and Food Centre',\n",
       " 'Jurong East Ave 1 Blk 347 (Yuhua Market and Hawker Centre)']"
      ]
     },
     "execution_count": 172,
     "metadata": {},
     "output_type": "execute_result"
    }
   ],
   "source": [
    "results = {hawkercentre_list[i]: geopy.distance.geodesic(test_locations[0], lat_lon_list[i]).km for i in range(len(hawkercentre_list))}\n",
    "sorted(results, key=results.get)[:5]"
   ]
  },
  {
   "cell_type": "code",
   "execution_count": 96,
   "id": "e3d8fede",
   "metadata": {
    "scrolled": true
   },
   "outputs": [
    {
     "name": "stdout",
     "output_type": "stream",
     "text": [
      "22.6 ms ± 3.11 ms per loop (mean ± std. dev. of 7 runs, 100 loops each)\n"
     ]
    }
   ],
   "source": [
    "%%timeit\n",
    "# test latency\n",
    "results = {hawkercentre_list[i]: geopy.distance.geodesic(test_locations[0], lat_lon_list[i]).km for i in range(len(hawkercentre_list))}\n",
    "sorted(results, key=results.get)[:5]"
   ]
  },
  {
   "cell_type": "code",
   "execution_count": 104,
   "id": "8b6398e1",
   "metadata": {},
   "outputs": [],
   "source": [
    "results = []\n",
    "for test_location in test_locations:\n",
    "    temp_dist = {hawkercentre_list[i]: geopy.distance.geodesic(test_location, lat_lon_list[i]).km for i in range(len(hawkercentre_list))}\n",
    "    results.append(sorted(temp_dist, key=temp_dist.get)[:5])"
   ]
  },
  {
   "cell_type": "markdown",
   "id": "f48b5ee3",
   "metadata": {},
   "source": [
    "### Testing with brute force method - SQL via sql lite db\n",
    "\n",
    "This method will be the most accurate one as all points are visited before determining the nearest neighbours."
   ]
  },
  {
   "cell_type": "code",
   "execution_count": 118,
   "id": "13e2bda8",
   "metadata": {},
   "outputs": [],
   "source": [
    "def get_cos_radians(x: float) -> float:\n",
    "    return math.cos(math.radians(x))\n",
    "\n",
    "def get_radians(x: float) -> float:\n",
    "    return math.radians(x)\n",
    "\n",
    "def get_sin_radians(x: float) -> float:\n",
    "    return math.sin(math.radians(x))"
   ]
  },
  {
   "cell_type": "code",
   "execution_count": 119,
   "id": "68987b4c",
   "metadata": {},
   "outputs": [],
   "source": [
    "# pre-calculate cos and sin radians\n",
    "df[\"LATITUDE_RADIANS_COS\"] = df[\"LATITUDE\"].apply(get_cos_radians)\n",
    "df[\"LONGITUDE_RADIANS\"] = df[\"LONGITUDE\"].apply(get_radians)\n",
    "df[\"LATITUDE_RADIANS_SIN\"] = df[\"LATITUDE\"].apply(get_sin_radians)"
   ]
  },
  {
   "cell_type": "code",
   "execution_count": 175,
   "id": "edec6c47",
   "metadata": {},
   "outputs": [],
   "source": [
    "# set up database and create table\n",
    "conn = sqlite3.connect('test_database')\n",
    "c = conn.cursor()"
   ]
  },
  {
   "cell_type": "code",
   "execution_count": 176,
   "id": "040e33e4",
   "metadata": {},
   "outputs": [
    {
     "data": {
      "text/plain": [
       "125"
      ]
     },
     "execution_count": 176,
     "metadata": {},
     "output_type": "execute_result"
    }
   ],
   "source": [
    "# dump dataframe details into table\n",
    "df[[\"NAME\", \n",
    "    \"PHOTOURL\", \n",
    "    \"LATITUDE\", \n",
    "    \"LONGITUDE\",\n",
    "    \"LATITUDE_RADIANS_SIN\",\n",
    "    \"LATITUDE_RADIANS_COS\",\n",
    "    \"LONGITUDE_RADIANS\"]].to_sql(\"hawkercentre\", conn, if_exists=\"replace\", index = False)"
   ]
  },
  {
   "cell_type": "code",
   "execution_count": 177,
   "id": "b2f65a47",
   "metadata": {},
   "outputs": [],
   "source": [
    "# distance function for sqlite\n",
    "def get_distance(input_latitude, \n",
    "             input_longitude, \n",
    "             latitude_radians_cos, \n",
    "             longitude_radians, \n",
    "             latitude_radians_sin):\n",
    "    # multiplier for distance in km\n",
    "    multiplier = 6371 \n",
    "    return multiplier * \\\n",
    "        math.acos(\n",
    "            math.cos(math.radians(input_latitude)) *\n",
    "            latitude_radians_cos *\n",
    "            math.cos(longitude_radians - math.radians(input_longitude) ) +\n",
    "            math.sin(math.radians(input_latitude)) * latitude_radians_sin\n",
    "        )\n",
    "    \n",
    "conn.create_function(\"get_distance\", 5, get_distance)\n",
    "\n",
    "# allow for debugging\n",
    "sqlite3.enable_callback_tracebacks(True) "
   ]
  },
  {
   "cell_type": "code",
   "execution_count": 178,
   "id": "d63ff865",
   "metadata": {},
   "outputs": [],
   "source": [
    "input_lat = test_locations[0][0]\n",
    "input_lon = test_locations[0][1]"
   ]
  },
  {
   "cell_type": "code",
   "execution_count": 181,
   "id": "9af16b56",
   "metadata": {},
   "outputs": [],
   "source": [
    "query = f'''  \n",
    "    SELECT \n",
    "        name,\n",
    "        photourl\n",
    "    FROM hawkercentre\n",
    "    ORDER BY get_distance(\n",
    "        {input_lat},\n",
    "        {input_lon},\n",
    "        latitude_radians_cos,\n",
    "        longitude_radians,\n",
    "        latitude_radians_sin)\n",
    "    LIMIT 5\n",
    "'''"
   ]
  },
  {
   "cell_type": "code",
   "execution_count": 182,
   "id": "1187ad39",
   "metadata": {},
   "outputs": [
    {
     "name": "stdout",
     "output_type": "stream",
     "text": [
      "[('Jurong West Hawker Centre', 'http://www.nea.gov.sg/images/default-source/Hawker-Centres-Division/jurong-west-hawker-centre.jpg'), ('Boon Lay Place Blk 221A/B (Boon Lay Place Market and Food Village)', 'http://www.nea.gov.sg/images/default-source/Hawker-Centres-Division/resize_1262154766447.jpg'), ('Jurong West Street 52 Blk 505', 'http://www.nea.gov.sg/images/default-source/Hawker-Centres-Division/resize_1262155040710.jpg'), ('Taman Jurong Market and Food Centre', 'http://www.nea.gov.sg/images/default-source/Hawker-Centres-Division/resize_1262156147897.jpg'), ('Jurong East Ave 1 Blk 347 (Yuhua Market and Hawker Centre)', 'http://www.nea.gov.sg/images/default-source/Hawker-Centres-Division/resize_1275537901886.jpg')]\n"
     ]
    }
   ],
   "source": [
    "c.execute(query)\n",
    "result = c.fetchall()\n",
    "print(result)"
   ]
  },
  {
   "cell_type": "code",
   "execution_count": 168,
   "id": "baa3b7e2",
   "metadata": {},
   "outputs": [
    {
     "name": "stdout",
     "output_type": "stream",
     "text": [
      "1.78 ms ± 411 µs per loop (mean ± std. dev. of 7 runs, 1,000 loops each)\n"
     ]
    }
   ],
   "source": [
    "%%timeit\n",
    "c.execute(query)\n",
    "result = c.fetchall()"
   ]
  },
  {
   "cell_type": "markdown",
   "id": "5778c92c",
   "metadata": {},
   "source": [
    "### Testing with Sklearn Ball Tree Algorithm"
   ]
  },
  {
   "cell_type": "code",
   "execution_count": 98,
   "id": "2ad19579",
   "metadata": {},
   "outputs": [],
   "source": [
    "ball_tree = BallTree(df[[\"LATITUDE\", \"LONGITUDE\"]], metric=\"haversine\")"
   ]
  },
  {
   "cell_type": "code",
   "execution_count": 138,
   "id": "1046feb8",
   "metadata": {},
   "outputs": [
    {
     "name": "stdout",
     "output_type": "stream",
     "text": [
      "32.6 µs ± 665 ns per loop (mean ± std. dev. of 7 runs, 10,000 loops each)\n"
     ]
    }
   ],
   "source": [
    "%%timeit\n",
    "# test latency\n",
    "ball_query_results = ball_tree.query(\n",
    "    [test_locations[0]],\n",
    "    k=5,\n",
    "    return_distance=False,\n",
    "    sort_results=True,\n",
    ")"
   ]
  },
  {
   "cell_type": "code",
   "execution_count": 130,
   "id": "1cc38976",
   "metadata": {},
   "outputs": [],
   "source": [
    "ball_query_results = ball_tree.query(\n",
    "    test_locations,\n",
    "    k=5,\n",
    "    return_distance=False,\n",
    "    sort_results=True,\n",
    ")\n",
    "ball_query_results = [df[\"NAME\"].iloc[r].tolist() for r in ball_query_results]"
   ]
  },
  {
   "cell_type": "markdown",
   "id": "86384cf8",
   "metadata": {},
   "source": [
    "### Conclusion"
   ]
  },
  {
   "cell_type": "code",
   "execution_count": 133,
   "id": "afe8f109",
   "metadata": {},
   "outputs": [
    {
     "name": "stdout",
     "output_type": "stream",
     "text": [
      "0.7581999999999991\n"
     ]
    }
   ],
   "source": [
    "# calculating accuracy using Mean Average Precision @ 5\n",
    "# ground truth is brute force\n",
    "\n",
    "individual_MAP = [len(set(results[i]).intersection(ball_query_results[i]))/5 for i in range(len(results))]\n",
    "overall_MAP = sum(individual_MAP)/len(individual_MAP)\n",
    "print(overall_MAP)"
   ]
  },
  {
   "cell_type": "raw",
   "id": "1f951b8c",
   "metadata": {},
   "source": [
    "Even though the balltree algorithm is much faster in terms of latency, it lacks greatly in accuracy at only 75% hit ratio.\n",
    "The brute force method of latency especially using SQL is still well within the SLA latency of 10ms, hence brute force (via SQL) will be chosen here in this implementation."
   ]
  }
 ],
 "metadata": {
  "kernelspec": {
   "display_name": "Python 3 (ipykernel)",
   "language": "python",
   "name": "python3"
  },
  "language_info": {
   "codemirror_mode": {
    "name": "ipython",
    "version": 3
   },
   "file_extension": ".py",
   "mimetype": "text/x-python",
   "name": "python",
   "nbconvert_exporter": "python",
   "pygments_lexer": "ipython3",
   "version": "3.8.10"
  }
 },
 "nbformat": 4,
 "nbformat_minor": 5
}
